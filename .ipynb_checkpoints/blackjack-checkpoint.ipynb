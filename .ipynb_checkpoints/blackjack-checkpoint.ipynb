{
 "cells": [
  {
   "cell_type": "code",
   "execution_count": 5,
   "id": "e42cb83c-3c04-4173-a775-2183c13eeadd",
   "metadata": {},
   "outputs": [
    {
     "name": "stdout",
     "output_type": "stream",
     "text": [
      "Requirement already satisfied: matplotlib in c:\\users\\looka\\onedrive\\documents\\python\\rl\\rl_model\\lib\\site-packages (3.8.4)\n",
      "Requirement already satisfied: pillow>=8 in c:\\users\\looka\\onedrive\\documents\\python\\rl\\rl_model\\lib\\site-packages (from matplotlib) (10.3.0)\n",
      "Requirement already satisfied: contourpy>=1.0.1 in c:\\users\\looka\\onedrive\\documents\\python\\rl\\rl_model\\lib\\site-packages (from matplotlib) (1.2.1)\n",
      "Requirement already satisfied: importlib-resources>=3.2.0 in c:\\users\\looka\\onedrive\\documents\\python\\rl\\rl_model\\lib\\site-packages (from matplotlib) (6.4.0)\n",
      "Requirement already satisfied: python-dateutil>=2.7 in c:\\users\\looka\\onedrive\\documents\\python\\rl\\rl_model\\lib\\site-packages (from matplotlib) (2.9.0.post0)\n",
      "Requirement already satisfied: pyparsing>=2.3.1 in c:\\users\\looka\\onedrive\\documents\\python\\rl\\rl_model\\lib\\site-packages (from matplotlib) (3.1.2)\n",
      "Requirement already satisfied: fonttools>=4.22.0 in c:\\users\\looka\\onedrive\\documents\\python\\rl\\rl_model\\lib\\site-packages (from matplotlib) (4.51.0)\n",
      "Requirement already satisfied: kiwisolver>=1.3.1 in c:\\users\\looka\\onedrive\\documents\\python\\rl\\rl_model\\lib\\site-packages (from matplotlib) (1.4.5)\n",
      "Requirement already satisfied: cycler>=0.10 in c:\\users\\looka\\onedrive\\documents\\python\\rl\\rl_model\\lib\\site-packages (from matplotlib) (0.12.1)\n",
      "Requirement already satisfied: numpy>=1.21 in c:\\users\\looka\\onedrive\\documents\\python\\rl\\rl_model\\lib\\site-packages (from matplotlib) (1.26.4)\n",
      "Requirement already satisfied: packaging>=20.0 in c:\\users\\looka\\onedrive\\documents\\python\\rl\\rl_model\\lib\\site-packages (from matplotlib) (24.0)\n",
      "Requirement already satisfied: zipp>=3.1.0 in c:\\users\\looka\\onedrive\\documents\\python\\rl\\rl_model\\lib\\site-packages (from importlib-resources>=3.2.0->matplotlib) (3.18.1)\n",
      "Requirement already satisfied: six>=1.5 in c:\\users\\looka\\onedrive\\documents\\python\\rl\\rl_model\\lib\\site-packages (from python-dateutil>=2.7->matplotlib) (1.16.0)\n"
     ]
    },
    {
     "name": "stderr",
     "output_type": "stream",
     "text": [
      "WARNING: You are using pip version 21.2.3; however, version 24.0 is available.\n",
      "You should consider upgrading via the 'C:\\Users\\looka\\OneDrive\\Documents\\Python\\RL\\rl_model\\Scripts\\python.exe -m pip install --upgrade pip' command.\n"
     ]
    }
   ],
   "source": [
    "!pip install matplotlib"
   ]
  },
  {
   "cell_type": "code",
   "execution_count": 15,
   "id": "4c2866fd-ecaa-43bc-9f7a-b22d7ee162fb",
   "metadata": {},
   "outputs": [],
   "source": [
    "import numpy as np\n",
    "from collections import defaultdict ## allows access to keys which can not be accessed\n",
    "import matplotlib.pyplot as plt\n",
    "from matplotlib.patches import Patch # draw shaped\n",
    "import seaborn as sns\n",
    "from tqdm import tqdm # porgress bar\n",
    "#%matpltolib inline -- no need in jupyter noteebook"
   ]
  },
  {
   "cell_type": "code",
   "execution_count": 29,
   "id": "1070d9f4-d349-42e7-94d3-052c359c5c51",
   "metadata": {},
   "outputs": [],
   "source": [
    "import gymnasium as gym"
   ]
  },
  {
   "cell_type": "code",
   "execution_count": 11,
   "id": "4fa9de09-30ea-41f1-a711-d8abf8c31a78",
   "metadata": {},
   "outputs": [],
   "source": [
    "## environment setting\n",
    "env = gym.make('Blackjack-v1', sab=True, render_mode = \"rgb_array\")"
   ]
  },
  {
   "cell_type": "code",
   "execution_count": 17,
   "id": "4a917722-c2d8-4039-b2ba-678ad59adc31",
   "metadata": {},
   "outputs": [],
   "source": [
    "## observing the environment\n",
    "done = False\n",
    "observation, info = env.reset()\n",
    "\n",
    "# ovservation = (16, 9, True) my number, delear number, I do have Ace and its a tuple"
   ]
  },
  {
   "cell_type": "code",
   "execution_count": 18,
   "id": "368fe96c-e894-49f1-85d8-6b04e85f6ab8",
   "metadata": {},
   "outputs": [
    {
     "name": "stderr",
     "output_type": "stream",
     "text": [
      "C:\\Users\\looka\\OneDrive\\Documents\\Python\\RL\\rl_model\\lib\\site-packages\\gymnasium\\utils\\passive_env_checker.py:249: DeprecationWarning: `np.bool8` is a deprecated alias for `np.bool_`.  (Deprecated NumPy 1.24)\n",
      "  if not isinstance(terminated, (bool, np.bool8)):\n"
     ]
    }
   ],
   "source": [
    "# take steps - random action\n",
    "action = env.action_space.sample()\n",
    "\n",
    "## execute the action and receives the informations\n",
    "observation, reward, terminated, truncated, info = env.step(action)\n",
    "\n",
    "# sample output:\n",
    "# observation=(24, 10, False)\n",
    "# reward=-1.0\n",
    "# terminated=True\n",
    "# truncated=False\n",
    "# info={}"
   ]
  },
  {
   "cell_type": "code",
   "execution_count": 35,
   "id": "7c7857c9-29ed-4043-8401-be910a783da8",
   "metadata": {},
   "outputs": [],
   "source": [
    "# Epsilon greedy strategy to solve blackjack\n",
    "## create black jack agent class\n",
    "class BJ:\n",
    "    def __init__(self, learning_rate: float,initial_epsilon: float,epsilon_decay: float,final_epsilon: float,discount_factor: float = 0.95,):\n",
    "        \n",
    "        \"\"\"Initialize a Reinforcement Learning agent with an empty dictionary\n",
    "        of state-action values (q_values), a learning rate and an epsilon.\n",
    "\n",
    "        Args:\n",
    "            learning_rate: The learning rate\n",
    "            initial_epsilon: The initial epsilon value\n",
    "            epsilon_decay: The decay for epsilon\n",
    "            final_epsilon: The final epsilon value\n",
    "            discount_factor: The discount factor for computing the Q-value\n",
    "        \"\"\"\n",
    "        self.q_values = defaultdict(lambda: np.zeros(env.action_space.n)) # do not want to always check if the key exist\n",
    "        self.lr = learning_rate\n",
    "        self.discount_factor = discount_factor\n",
    "        self.epsilon = initial_epsilon\n",
    "        self.epsilon_decay = epsilon_decay\n",
    "        self.final_epsilon = final_epsilon\n",
    "        self.training_error = []\n",
    "\n",
    "    def get_action(self, obs: tuple[int, int, bool]) -> int:\n",
    "        \"\"\"\n",
    "        Returns the best action with probability (1 - epsilon)\n",
    "        otherwise a random action with probability epsilon to ensure exploration.\n",
    "        \"\"\"\n",
    "        # with probability epsilon return a random action to explore the environment\n",
    "        if np.random() < self.epsilon:\n",
    "            return env.action_space.sample()\n",
    "\n",
    "        # with probability (1 - epsilon) act greedily (exploit)\n",
    "        else:\n",
    "            return int(np.argmax(self.q_value[obs]))\n",
    "\n",
    "    def update( self, obs: tuple[int, int, bool], action: int, reward: float, terminated: bool, next_obs: tuple[int, int, bool]):\n",
    "        \"\"\"update the q value of an action.\"\"\"\n",
    "        future_q_value = (not terminated) * np.max(self.q_values[next_obs])\n",
    "        temporal_difference  = (\n",
    "            reward + self.discount_factor * future_q_value - self.q_values[obs][action]\n",
    "        )\n",
    "\n",
    "        self.q_values[obs][action] = (\n",
    "           self.q_values[obs][action] + self.lr * temporal_difference \n",
    "        )\n",
    "        self.training_error.append(temporal_difference)\n",
    "\n",
    "    def decay_epsilon(self):\n",
    "        self.epsilon = max(self.final_epsilon, self.epsilon - epsilon_decay)\n",
    "    "
   ]
  },
  {
   "cell_type": "code",
   "execution_count": 36,
   "id": "78f35816-b3e6-4101-a4dd-2f671b939a93",
   "metadata": {},
   "outputs": [],
   "source": [
    "## settings value for hyperparameters\n",
    "learning_rate = 0.01\n",
    "n_episodes = 100_00\n",
    "start_epsilon = 1.0\n",
    "epsilon_decay = start_epsilon / (n_epsilon/2) ## reduce the exploration over time\n",
    "final_epsilon = 0.1\n",
    "\n",
    "agent = BJ(learning_rate, n_epsilon, start_epsilon, epsilon_decay, final_epsilon)"
   ]
  },
  {
   "cell_type": "code",
   "execution_count": 37,
   "id": "2855fd8b-65b5-4c26-b755-c1b079ab0aa3",
   "metadata": {},
   "outputs": [
    {
     "name": "stderr",
     "output_type": "stream",
     "text": [
      "  0%|                                                                                        | 0/10000 [00:00<?, ?it/s]\n"
     ]
    },
    {
     "ename": "TypeError",
     "evalue": "'module' object is not callable",
     "output_type": "error",
     "traceback": [
      "\u001b[1;31m---------------------------------------------------------------------------\u001b[0m",
      "\u001b[1;31mTypeError\u001b[0m                                 Traceback (most recent call last)",
      "Cell \u001b[1;32mIn[37], line 12\u001b[0m\n\u001b[0;32m     10\u001b[0m \u001b[38;5;66;03m# play one episode\u001b[39;00m\n\u001b[0;32m     11\u001b[0m \u001b[38;5;28;01mwhile\u001b[39;00m \u001b[38;5;129;01mnot\u001b[39;00m done:\n\u001b[1;32m---> 12\u001b[0m     action \u001b[38;5;241m=\u001b[39m \u001b[43magent\u001b[49m\u001b[38;5;241;43m.\u001b[39;49m\u001b[43mget_action\u001b[49m\u001b[43m(\u001b[49m\u001b[43mobs\u001b[49m\u001b[43m)\u001b[49m\n\u001b[0;32m     13\u001b[0m     next_obs, reward, terminated, truncated, info \u001b[38;5;241m=\u001b[39m env\u001b[38;5;241m.\u001b[39mstep(action)\n\u001b[0;32m     15\u001b[0m     \u001b[38;5;66;03m## update the agent\u001b[39;00m\n",
      "Cell \u001b[1;32mIn[35], line 30\u001b[0m, in \u001b[0;36mBJ.get_action\u001b[1;34m(self, obs)\u001b[0m\n\u001b[0;32m     25\u001b[0m \u001b[38;5;250m\u001b[39m\u001b[38;5;124;03m\"\"\"\u001b[39;00m\n\u001b[0;32m     26\u001b[0m \u001b[38;5;124;03mReturns the best action with probability (1 - epsilon)\u001b[39;00m\n\u001b[0;32m     27\u001b[0m \u001b[38;5;124;03motherwise a random action with probability epsilon to ensure exploration.\u001b[39;00m\n\u001b[0;32m     28\u001b[0m \u001b[38;5;124;03m\"\"\"\u001b[39;00m\n\u001b[0;32m     29\u001b[0m \u001b[38;5;66;03m# with probability epsilon return a random action to explore the environment\u001b[39;00m\n\u001b[1;32m---> 30\u001b[0m \u001b[38;5;28;01mif\u001b[39;00m \u001b[43mnp\u001b[49m\u001b[38;5;241;43m.\u001b[39;49m\u001b[43mrandom\u001b[49m\u001b[43m(\u001b[49m\u001b[43m)\u001b[49m \u001b[38;5;241m<\u001b[39m \u001b[38;5;28mself\u001b[39m\u001b[38;5;241m.\u001b[39mepsilon:\n\u001b[0;32m     31\u001b[0m     \u001b[38;5;28;01mreturn\u001b[39;00m env\u001b[38;5;241m.\u001b[39maction_space\u001b[38;5;241m.\u001b[39msample()\n\u001b[0;32m     33\u001b[0m \u001b[38;5;66;03m# with probability (1 - epsilon) act greedily (exploit)\u001b[39;00m\n\u001b[0;32m     34\u001b[0m \u001b[38;5;28;01melse\u001b[39;00m:\n",
      "\u001b[1;31mTypeError\u001b[0m: 'module' object is not callable"
     ]
    }
   ],
   "source": [
    "## training the agent\n",
    "from IPython.display import clear_output\n",
    "env = gym.wrappers.RecordEpisodeStatistics(env, deque_size = n_episodes)\n",
    "\n",
    "## what is happening in every episode\n",
    "for episode in tqdm(range(n_episodes)):\n",
    "    obs, info = env.reset() ## reset the environment in every episode\n",
    "    done = False\n",
    "    clear_output() # e\n",
    "    # play one episode\n",
    "    while not done:\n",
    "        action = agent.get_action(obs)\n",
    "        next_obs, reward, terminated, truncated, info = env.step(action)\n",
    "\n",
    "        ## update the agent\n",
    "        agent.update(obs, action, reward, terminated, next_obs)\n",
    "        frame = env.render()\n",
    "        plt.imshow(frame)\n",
    "        plt.show()\n",
    "        \n",
    "        # update if the environment is done and the current obs\n",
    "        done = terminated or truncated\n",
    "        obs = next_obs\n",
    "        \n",
    "    agent.decay_epsilon() ## over time it will get smarter"
   ]
  },
  {
   "cell_type": "code",
   "execution_count": null,
   "id": "cb192709-4450-496b-9d37-71c391eb1adf",
   "metadata": {},
   "outputs": [],
   "source": []
  }
 ],
 "metadata": {
  "kernelspec": {
   "display_name": "Python 3 (ipykernel)",
   "language": "python",
   "name": "python3"
  },
  "language_info": {
   "codemirror_mode": {
    "name": "ipython",
    "version": 3
   },
   "file_extension": ".py",
   "mimetype": "text/x-python",
   "name": "python",
   "nbconvert_exporter": "python",
   "pygments_lexer": "ipython3",
   "version": "3.9.7"
  }
 },
 "nbformat": 4,
 "nbformat_minor": 5
}
